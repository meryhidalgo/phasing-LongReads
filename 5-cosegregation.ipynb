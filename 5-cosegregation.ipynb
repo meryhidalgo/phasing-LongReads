{
 "cells": [
  {
   "cell_type": "code",
   "execution_count": 63,
   "id": "3a601226",
   "metadata": {},
   "outputs": [],
   "source": [
    "import pandas as pd\n",
    "import glob"
   ]
  },
  {
   "cell_type": "code",
   "execution_count": null,
   "id": "dbb7193a",
   "metadata": {},
   "outputs": [],
   "source": [
    "# --- Parámetros ---\n",
    "carpeta_tablas = \"vcf_tables/*.txt\"  # patrón de archivos\n",
    "var_interes_pos = 114787  # posición de tu variante de interés (ej: chr1:123456)\n",
    "var_interes_chr = \"chr1\"\n",
    "\n",
    "# --- Función para procesar una tabla ---\n",
    "def variantes_cis(archivo):\n",
    "    df = pd.read_csv(archivo, sep=\"\\t\", header=None,\n",
    "                     names=[\"chr\",\"pos\",\"GT\",\"PS\"])\n",
    "    df = df[df[\"chr\"] == var_interes_chr].copy()\n",
    "\n",
    "    # Buscar la variante de interés\n",
    "    var_int = df[df[\"pos\"] == str(var_interes_pos)]\n",
    "    if var_int.empty:\n",
    "        return pd.DataFrame(), archivo  # Variante no encontrada\n",
    "\n",
    "    # Sacar haplotipo y PS de la variante de interés\n",
    "    gt = var_int[\"GT\"].iloc[0]\n",
    "    ps = var_int[\"PS\"].iloc[0]\n",
    "    hap_int = gt.split(\"|\")[0] if gt.startswith(\"1|\") or gt.startswith(\"0|\") else None\n",
    "    # hap_int = alelo en hap1 (puedes cambiar a hap2 si quieres)\n",
    "\n",
    "    # Filtrar variantes en el mismo PS y mismo haplotipo\n",
    "    same_ps = df[df[\"PS\"] == ps].copy()\n",
    "    same_ps[\"hap1\"], same_ps[\"hap2\"] = zip(*same_ps[\"GT\"].str.split(\"|\"))\n",
    "    same_ps = same_ps[same_ps[\"hap1\"] == hap_int]  # compara haplotipo 1\n",
    "    return same_ps, archivo"
   ]
  },
  {
   "cell_type": "code",
   "execution_count": 66,
   "id": "3081da54",
   "metadata": {},
   "outputs": [
    {
     "name": "stdout",
     "output_type": "stream",
     "text": [
      "\n",
      "Conteo global:\n",
      "    chr     pos  n_muestras\n",
      "5  chr1  198629           3\n",
      "2  chr1  114787           3\n",
      "1  chr1  111698           2\n",
      "0  chr1  109783           2\n",
      "3  chr1  133910           1\n",
      "4  chr1  136436           1\n"
     ]
    }
   ],
   "source": [
    "# --- Procesar todas las tablas ---\n",
    "resultados = []\n",
    "for archivo in glob.glob(carpeta_tablas):\n",
    "    same_ps, nombre = variantes_cis(archivo)\n",
    "    if not same_ps.empty:\n",
    "        same_ps[\"muestra\"] = nombre\n",
    "        resultados.append(same_ps)\n",
    "\n",
    "# --- Combinar resultados ---\n",
    "if resultados:\n",
    "    df_all = pd.concat(resultados, ignore_index=True)\n",
    "    #print(\"Variantes que segregan con\", var_interes_chr, var_interes_pos)\n",
    "    #print(df_all)\n",
    "\n",
    "    # Conteo global de co-segregación\n",
    "    conteo = df_all.groupby([\"chr\",\"pos\"]).size().reset_index(name=\"n_muestras\")\n",
    "    conteo = conteo.sort_values(\"n_muestras\", ascending=False)\n",
    "    print(\"\\nConteo global:\")\n",
    "    print(conteo)\n",
    "else:\n",
    "    print(\"No se encontraron variantes co-segregantes con la variante de interés.\")"
   ]
  },
  {
   "cell_type": "markdown",
   "id": "91610014",
   "metadata": {},
   "source": [
    "las variantes que más me interesan son las que están en "
   ]
  }
 ],
 "metadata": {
  "kernelspec": {
   "display_name": "python",
   "language": "python",
   "name": "python3"
  },
  "language_info": {
   "codemirror_mode": {
    "name": "ipython",
    "version": 3
   },
   "file_extension": ".py",
   "mimetype": "text/x-python",
   "name": "python",
   "nbconvert_exporter": "python",
   "pygments_lexer": "ipython3",
   "version": "3.13.5"
  }
 },
 "nbformat": 4,
 "nbformat_minor": 5
}
